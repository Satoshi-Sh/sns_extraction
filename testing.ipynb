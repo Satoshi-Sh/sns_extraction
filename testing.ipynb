{
 "cells": [
  {
   "cell_type": "markdown",
   "metadata": {},
   "source": [
    "# SNSCrape\n",
    "\n",
    "Referred to this video(https://www.youtube.com/watch?v=PUMMCLrVn8A).\n",
    "\n"
   ]
  },
  {
   "cell_type": "markdown",
   "metadata": {},
   "source": [
    "## Part 1\n",
    "Following the turotial by Rob"
   ]
  },
  {
   "cell_type": "code",
   "execution_count": 25,
   "metadata": {},
   "outputs": [],
   "source": [
    "import pandas as pd \n",
    "\n",
    "from tqdm.notebook import tqdm \n",
    "import snscrape.modules.twitter as sntwitter"
   ]
  },
  {
   "cell_type": "code",
   "execution_count": 26,
   "metadata": {},
   "outputs": [
    {
     "data": {
      "application/vnd.jupyter.widget-view+json": {
       "model_id": "b4a50b4955864b4caa8a6d4666ffe88b",
       "version_major": 2,
       "version_minor": 0
      },
      "text/plain": [
       "  0%|          | 0/1000 [00:00<?, ?it/s]"
      ]
     },
     "metadata": {},
     "output_type": "display_data"
    }
   ],
   "source": [
    "scraper = sntwitter.TwitterSearchScraper('#mastodon')\n",
    "tweets = []\n",
    "n_tweets = 1000\n",
    "for (i,tweet) in tqdm(enumerate(scraper.get_items()),total=n_tweets):\n",
    "    data= [\n",
    "    tweet.date,\n",
    "    tweet.id,\n",
    "    tweet.content,\n",
    "    tweet.user.username,\n",
    "    tweet.likeCount,\n",
    "    tweet.retweetCount\n",
    "]\n",
    "\n",
    "    tweets.append(data)\n",
    "    if i >n_tweets:\n",
    "        break"
   ]
  },
  {
   "cell_type": "code",
   "execution_count": 27,
   "metadata": {},
   "outputs": [],
   "source": [
    "tweet_df = pd.DataFrame(tweets, columns=['date','id','content','username','likeCount','retweetCount'])"
   ]
  },
  {
   "cell_type": "code",
   "execution_count": 28,
   "metadata": {},
   "outputs": [],
   "source": [
    "tweet_df.to_csv('mastodon_tweets.csv',index=False)"
   ]
  }
 ],
 "metadata": {
  "kernelspec": {
   "display_name": "Python 3.10.6 ('twitter_extraction': venv)",
   "language": "python",
   "name": "python3"
  },
  "language_info": {
   "codemirror_mode": {
    "name": "ipython",
    "version": 3
   },
   "file_extension": ".py",
   "mimetype": "text/x-python",
   "name": "python",
   "nbconvert_exporter": "python",
   "pygments_lexer": "ipython3",
   "version": "3.10.6"
  },
  "orig_nbformat": 4,
  "vscode": {
   "interpreter": {
    "hash": "aecb36fd4be17bfc900f88621ff5d10dca3d4f49e6d2914d62c12ce283d759e0"
   }
  }
 },
 "nbformat": 4,
 "nbformat_minor": 2
}
