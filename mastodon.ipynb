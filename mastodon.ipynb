{
 "cells": [
  {
   "cell_type": "markdown",
   "metadata": {},
   "source": [
    "## Extracting Mastodon Toots"
   ]
  },
  {
   "cell_type": "code",
   "execution_count": 1,
   "metadata": {},
   "outputs": [
    {
     "data": {
      "text/plain": [
       "True"
      ]
     },
     "execution_count": 1,
     "metadata": {},
     "output_type": "execute_result"
    }
   ],
   "source": [
    "import pandas as pd \n",
    "import matplotlib.pyplot as plt\n",
    "from dotenv import load_dotenv\n",
    "import os \n",
    "import html2text \n",
    "load_dotenv()"
   ]
  },
  {
   "cell_type": "markdown",
   "metadata": {},
   "source": [
    "## Configure Mastodon"
   ]
  },
  {
   "cell_type": "code",
   "execution_count": 2,
   "metadata": {},
   "outputs": [],
   "source": [
    "\n",
    "from mastodon import Mastodon\n",
    "\n",
    "Mastodon.create_app(\n",
    "      'pytooterapp',\n",
    "      api_base_url = 'https://mastodon.xyz',\n",
    "      to_file = os.environ.get('SECRET')\n",
    "  )\n",
    "\n",
    "mastodon = Mastodon(api_base_url = 'https://mastodon.xyz',client_id = os.environ.get('SECRET'),client_secret=os.environ.get('SECRET'))\n",
    "\n"
   ]
  },
  {
   "cell_type": "code",
   "execution_count": 3,
   "metadata": {},
   "outputs": [
    {
     "data": {
      "text/plain": [
       "'OMZuB9D-mhqq6HcLiDwZKAOWYcXgax9fShJDRo6-3FY'"
      ]
     },
     "execution_count": 3,
     "metadata": {},
     "output_type": "execute_result"
    }
   ],
   "source": [
    "mastodon.log_in(\n",
    "    os.environ.get('EMAIL'),\n",
    "    os.environ.get('PASS'),\n",
    "    to_file = os.environ.get('SECRET')\n",
    ")"
   ]
  },
  {
   "cell_type": "markdown",
   "metadata": {},
   "source": [
    "## Extract toots with a hashtag"
   ]
  },
  {
   "cell_type": "code",
   "execution_count": 4,
   "metadata": {},
   "outputs": [],
   "source": [
    "#['twitter','birdsite']\n",
    "hashtag = 'twitter'\n",
    "\n",
    "toots =mastodon.timeline_hashtag(hashtag,limit=40)\n",
    "\n",
    "while len(toots) <5000:\n",
    "    ## smallest used for min_id to get another set of toots\n",
    "    smallest = toots[-1].id \n",
    "    temp = mastodon.timeline_hashtag('twitter',limit=40, min_id=smallest)\n",
    "    toots.extend(temp)\n"
   ]
  },
  {
   "cell_type": "code",
   "execution_count": null,
   "metadata": {},
   "outputs": [
    {
     "name": "stdout",
     "output_type": "stream",
     "text": [
      "One of the interesting things about\n",
      "[#Twitter](https://mastodon.online/tags/Twitter) being stuck on\n",
      "[#CentOS](https://mastodon.online/tags/CentOS) 7 is that there is no available\n",
      "currently supported version of [#Python](https://mastodon.online/tags/Python)\n",
      "for CentOS 7 (outside of 3rd party repos). Maybe an org like Twitter *was* big\n",
      "enough to backport newer versions, but I can't imagine that still being the\n",
      "case.\n",
      "\n",
      "\n"
     ]
    }
   ],
   "source": [
    "print(html2text.html2text(toots[0].content))"
   ]
  },
  {
   "cell_type": "code",
   "execution_count": null,
   "metadata": {},
   "outputs": [],
   "source": [
    "toots_df = pd.DataFrame(toots)\n",
    "\n",
    "#convert html to plain text\n",
    "toots_df['content'] = toots_df['content'].apply(lambda x: html2text.html2text(x))\n"
   ]
  },
  {
   "cell_type": "code",
   "execution_count": null,
   "metadata": {},
   "outputs": [],
   "source": [
    "toots_df.to_csv('mastoodn_toots.csv',index=False)"
   ]
  }
 ],
 "metadata": {
  "kernelspec": {
   "display_name": "Python 3.10.6 ('twitter_extraction': venv)",
   "language": "python",
   "name": "python3"
  },
  "language_info": {
   "codemirror_mode": {
    "name": "ipython",
    "version": 3
   },
   "file_extension": ".py",
   "mimetype": "text/x-python",
   "name": "python",
   "nbconvert_exporter": "python",
   "pygments_lexer": "ipython3",
   "version": "3.10.6"
  },
  "orig_nbformat": 4,
  "vscode": {
   "interpreter": {
    "hash": "aecb36fd4be17bfc900f88621ff5d10dca3d4f49e6d2914d62c12ce283d759e0"
   }
  }
 },
 "nbformat": 4,
 "nbformat_minor": 2
}
